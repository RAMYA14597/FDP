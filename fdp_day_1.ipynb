{
  "nbformat": 4,
  "nbformat_minor": 0,
  "metadata": {
    "colab": {
      "provenance": [],
      "toc_visible": true
    },
    "kernelspec": {
      "name": "python3",
      "display_name": "Python 3"
    },
    "language_info": {
      "name": "python"
    }
  },
  "cells": [
    {
      "cell_type": "markdown",
      "source": [
        "Python for Data Science"
      ],
      "metadata": {
        "id": "xPGXST6LzfnT"
      }
    },
    {
      "cell_type": "code",
      "execution_count": null,
      "metadata": {
        "colab": {
          "base_uri": "https://localhost:8080/"
        },
        "id": "CiX74HQIMbdF",
        "outputId": "0140d712-4f40-4e63-a495-80b101e17a63"
      },
      "outputs": [
        {
          "output_type": "stream",
          "name": "stdout",
          "text": [
            "<class 'int'>\n"
          ]
        },
        {
          "output_type": "execute_result",
          "data": {
            "text/plain": [
              "float"
            ]
          },
          "metadata": {},
          "execution_count": 4
        }
      ],
      "source": [
        "a=10\n",
        "b=2.2\n",
        "print(type(a))\n",
        "type(b)\n",
        "#type(a)"
      ]
    },
    {
      "cell_type": "code",
      "source": [
        "s=False\n",
        "type(s)"
      ],
      "metadata": {
        "colab": {
          "base_uri": "https://localhost:8080/"
        },
        "id": "eySJoGeTQ6jJ",
        "outputId": "fdcf0775-6bb6-46a6-8758-c5fa53f81b83"
      },
      "execution_count": null,
      "outputs": [
        {
          "output_type": "execute_result",
          "data": {
            "text/plain": [
              "bool"
            ]
          },
          "metadata": {},
          "execution_count": 6
        }
      ]
    },
    {
      "cell_type": "code",
      "source": [
        "#slicing and Striding\n",
        "str1=\"Python Programming\"\n",
        "print(str1[-1])\n",
        "print(len(str1))\n",
        "print(str1[1:6:1])\n",
        "print(str1[-1:6:-2])\n",
        "print(str1[-1:-6:-1])\n",
        "print(str1[-1:6:-2])\n",
        "print(str1[-1:-6:2])"
      ],
      "metadata": {
        "colab": {
          "base_uri": "https://localhost:8080/"
        },
        "id": "2Stdz5l2UBRA",
        "outputId": "97f82c66-7c31-40b4-8e6b-f6bd870cf3a7"
      },
      "execution_count": null,
      "outputs": [
        {
          "output_type": "stream",
          "name": "stdout",
          "text": [
            "g\n",
            "18\n",
            "ython\n",
            "gnimm\n",
            "gimroP\n",
            "\n"
          ]
        }
      ]
    },
    {
      "cell_type": "code",
      "source": [
        "#To search a character or substring in given string it is used\n",
        "print(\"P\" in str1)\n",
        "print(\"thon\" in str1)\n",
        "print(\"thon Programming\" in str1)"
      ],
      "metadata": {
        "colab": {
          "base_uri": "https://localhost:8080/"
        },
        "id": "0-kI9GTQkgkv",
        "outputId": "ce57357a-61de-4df5-c614-887c2067eabd"
      },
      "execution_count": null,
      "outputs": [
        {
          "output_type": "stream",
          "name": "stdout",
          "text": [
            "True\n",
            "True\n",
            "True\n"
          ]
        }
      ]
    },
    {
      "cell_type": "code",
      "source": [
        "#tuple\n",
        "t1=(1,\"python\",2.5)\n",
        "print(type(t1))\n",
        "print(t1)\n",
        "t2=(t1)\n",
        "t3=t1+t2\n",
        "print(type(t2))\n",
        "print(t2*4)\n",
        "print(t3)\n"
      ],
      "metadata": {
        "colab": {
          "base_uri": "https://localhost:8080/"
        },
        "id": "tARyXTnJq1K-",
        "outputId": "f36defd0-1a10-433b-c449-43f40465a0f3"
      },
      "execution_count": null,
      "outputs": [
        {
          "output_type": "stream",
          "name": "stdout",
          "text": [
            "<class 'tuple'>\n",
            "(1, 'python', 2.5)\n",
            "<class 'tuple'>\n",
            "(1, 'python', 2.5, 1, 'python', 2.5, 1, 'python', 2.5, 1, 'python', 2.5)\n",
            "(1, 'python', 2.5, 1, 'python', 2.5)\n"
          ]
        }
      ]
    },
    {
      "cell_type": "code",
      "source": [
        "#nested tuple\n",
        "tt1=(3,4),\n",
        "tt2=(4,5),\n",
        "tt3=tt1+tt2\n",
        "print(tt3)\n",
        "print(len(tt3))\n",
        "print(type(tt3))"
      ],
      "metadata": {
        "colab": {
          "base_uri": "https://localhost:8080/"
        },
        "id": "1PzAVKizuyY4",
        "outputId": "6b200848-0b34-42be-9de0-589a1053ff84"
      },
      "execution_count": null,
      "outputs": [
        {
          "output_type": "stream",
          "name": "stdout",
          "text": [
            "((3, 4), (4, 5))\n",
            "2\n",
            "<class 'tuple'>\n"
          ]
        }
      ]
    },
    {
      "cell_type": "code",
      "source": [
        "#List\n",
        "l1=[1,\"hi\",5.2,5.222]\n",
        "print(l1)\n",
        "print(type(l1))\n",
        "len(l1)\n",
        "l1[1]=\"hlo\"\n",
        "print(l1)"
      ],
      "metadata": {
        "colab": {
          "base_uri": "https://localhost:8080/"
        },
        "id": "S1KWCNTyvZOf",
        "outputId": "a57ce051-8f66-47e3-d924-693c720ae27c"
      },
      "execution_count": null,
      "outputs": [
        {
          "output_type": "stream",
          "name": "stdout",
          "text": [
            "[1, 'hi', 5.2, 5.222]\n",
            "<class 'list'>\n",
            "[1, 'hlo', 5.2, 5.222]\n"
          ]
        }
      ]
    },
    {
      "cell_type": "code",
      "source": [
        "#sublist\n",
        "l2=[[2,3,6],[\"hi\",1.2],[4,\"python\",True]]\n",
        "print(l2)\n",
        "print(type(l2))\n",
        "print(l2[:])\n",
        "print(l2[1:-1])\n",
        "del(l2[2])\n",
        "print(l2)"
      ],
      "metadata": {
        "colab": {
          "base_uri": "https://localhost:8080/"
        },
        "id": "WiqBf1AGy4tw",
        "outputId": "51587315-fc04-47ed-abfc-a1c0d9d912c5"
      },
      "execution_count": null,
      "outputs": [
        {
          "output_type": "stream",
          "name": "stdout",
          "text": [
            "[[2, 3, 6], ['hi', 1.2], [4, 'python', True]]\n",
            "<class 'list'>\n",
            "[[2, 3, 6], ['hi', 1.2], [4, 'python', True]]\n",
            "[['hi', 1.2]]\n",
            "[[2, 3, 6], ['hi', 1.2]]\n"
          ]
        }
      ]
    }
  ]
}